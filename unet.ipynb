{
  "nbformat": 4,
  "nbformat_minor": 0,
  "metadata": {
    "colab": {
      "provenance": [],
      "authorship_tag": "ABX9TyPpM+aEz3c3qgxL7qNNWOzT",
      "include_colab_link": true
    },
    "kernelspec": {
      "name": "python3",
      "display_name": "Python 3"
    },
    "language_info": {
      "name": "python"
    }
  },
  "cells": [
    {
      "cell_type": "markdown",
      "metadata": {
        "id": "view-in-github",
        "colab_type": "text"
      },
      "source": [
        "<a href=\"https://colab.research.google.com/github/lvllvl/SLAM/blob/main/unet.ipynb\" target=\"_parent\"><img src=\"https://colab.research.google.com/assets/colab-badge.svg\" alt=\"Open In Colab\"/></a>"
      ]
    },
    {
      "cell_type": "code",
      "source": [
        "# Mount your drive, to save parts of your model, e.g., checkpoints, etc.\n",
        "from google.colab import drive\n",
        "drive.mount('/content/drive')"
      ],
      "metadata": {
        "colab": {
          "base_uri": "https://localhost:8080/"
        },
        "id": "5-NCSsTntvOK",
        "outputId": "7af567f3-aa8f-4566-b0f0-5b12d9591685"
      },
      "execution_count": 1,
      "outputs": [
        {
          "output_type": "stream",
          "name": "stdout",
          "text": [
            "Mounted at /content/drive\n"
          ]
        }
      ]
    },
    {
      "cell_type": "code",
      "execution_count": 1,
      "metadata": {
        "colab": {
          "base_uri": "https://localhost:8080/"
        },
        "id": "_W_MoUMPi2J-",
        "outputId": "4caeca68-2ecb-4fe3-ba02-628484ef85ed"
      },
      "outputs": [
        {
          "output_type": "stream",
          "name": "stdout",
          "text": [
            "Cloning into 'SLAM'...\n",
            "remote: Enumerating objects: 69, done.\u001b[K\n",
            "remote: Counting objects: 100% (69/69), done.\u001b[K\n",
            "remote: Compressing objects: 100% (46/46), done.\u001b[K\n",
            "remote: Total 69 (delta 26), reused 56 (delta 16), pack-reused 0\u001b[K\n",
            "Receiving objects: 100% (69/69), 11.08 KiB | 1.58 MiB/s, done.\n",
            "Resolving deltas: 100% (26/26), done.\n",
            "Requirement already satisfied: numpy in /usr/local/lib/python3.10/dist-packages (from -r SLAM/requirements.txt (line 1)) (1.23.5)\n",
            "Requirement already satisfied: torch in /usr/local/lib/python3.10/dist-packages (from -r SLAM/requirements.txt (line 2)) (2.1.0+cu118)\n",
            "Requirement already satisfied: torchvision in /usr/local/lib/python3.10/dist-packages (from -r SLAM/requirements.txt (line 3)) (0.16.0+cu118)\n",
            "Requirement already satisfied: matplotlib in /usr/local/lib/python3.10/dist-packages (from -r SLAM/requirements.txt (line 4)) (3.7.1)\n",
            "Requirement already satisfied: opencv-python-headless in /usr/local/lib/python3.10/dist-packages (from -r SLAM/requirements.txt (line 5)) (4.8.1.78)\n",
            "Requirement already satisfied: Pillow in /usr/local/lib/python3.10/dist-packages (from -r SLAM/requirements.txt (line 6)) (9.4.0)\n",
            "Requirement already satisfied: scipy in /usr/local/lib/python3.10/dist-packages (from -r SLAM/requirements.txt (line 7)) (1.11.3)\n",
            "Requirement already satisfied: tqdm in /usr/local/lib/python3.10/dist-packages (from -r SLAM/requirements.txt (line 8)) (4.66.1)\n",
            "Requirement already satisfied: pandas in /usr/local/lib/python3.10/dist-packages (from -r SLAM/requirements.txt (line 9)) (1.5.3)\n",
            "Requirement already satisfied: scikit-learn in /usr/local/lib/python3.10/dist-packages (from -r SLAM/requirements.txt (line 10)) (1.2.2)\n",
            "Requirement already satisfied: filelock in /usr/local/lib/python3.10/dist-packages (from torch->-r SLAM/requirements.txt (line 2)) (3.12.4)\n",
            "Requirement already satisfied: typing-extensions in /usr/local/lib/python3.10/dist-packages (from torch->-r SLAM/requirements.txt (line 2)) (4.5.0)\n",
            "Requirement already satisfied: sympy in /usr/local/lib/python3.10/dist-packages (from torch->-r SLAM/requirements.txt (line 2)) (1.12)\n",
            "Requirement already satisfied: networkx in /usr/local/lib/python3.10/dist-packages (from torch->-r SLAM/requirements.txt (line 2)) (3.2)\n",
            "Requirement already satisfied: jinja2 in /usr/local/lib/python3.10/dist-packages (from torch->-r SLAM/requirements.txt (line 2)) (3.1.2)\n",
            "Requirement already satisfied: fsspec in /usr/local/lib/python3.10/dist-packages (from torch->-r SLAM/requirements.txt (line 2)) (2023.6.0)\n",
            "Requirement already satisfied: triton==2.1.0 in /usr/local/lib/python3.10/dist-packages (from torch->-r SLAM/requirements.txt (line 2)) (2.1.0)\n",
            "Requirement already satisfied: requests in /usr/local/lib/python3.10/dist-packages (from torchvision->-r SLAM/requirements.txt (line 3)) (2.31.0)\n",
            "Requirement already satisfied: contourpy>=1.0.1 in /usr/local/lib/python3.10/dist-packages (from matplotlib->-r SLAM/requirements.txt (line 4)) (1.1.1)\n",
            "Requirement already satisfied: cycler>=0.10 in /usr/local/lib/python3.10/dist-packages (from matplotlib->-r SLAM/requirements.txt (line 4)) (0.12.1)\n",
            "Requirement already satisfied: fonttools>=4.22.0 in /usr/local/lib/python3.10/dist-packages (from matplotlib->-r SLAM/requirements.txt (line 4)) (4.43.1)\n",
            "Requirement already satisfied: kiwisolver>=1.0.1 in /usr/local/lib/python3.10/dist-packages (from matplotlib->-r SLAM/requirements.txt (line 4)) (1.4.5)\n",
            "Requirement already satisfied: packaging>=20.0 in /usr/local/lib/python3.10/dist-packages (from matplotlib->-r SLAM/requirements.txt (line 4)) (23.2)\n",
            "Requirement already satisfied: pyparsing>=2.3.1 in /usr/local/lib/python3.10/dist-packages (from matplotlib->-r SLAM/requirements.txt (line 4)) (3.1.1)\n",
            "Requirement already satisfied: python-dateutil>=2.7 in /usr/local/lib/python3.10/dist-packages (from matplotlib->-r SLAM/requirements.txt (line 4)) (2.8.2)\n",
            "Requirement already satisfied: pytz>=2020.1 in /usr/local/lib/python3.10/dist-packages (from pandas->-r SLAM/requirements.txt (line 9)) (2023.3.post1)\n",
            "Requirement already satisfied: joblib>=1.1.1 in /usr/local/lib/python3.10/dist-packages (from scikit-learn->-r SLAM/requirements.txt (line 10)) (1.3.2)\n",
            "Requirement already satisfied: threadpoolctl>=2.0.0 in /usr/local/lib/python3.10/dist-packages (from scikit-learn->-r SLAM/requirements.txt (line 10)) (3.2.0)\n",
            "Requirement already satisfied: six>=1.5 in /usr/local/lib/python3.10/dist-packages (from python-dateutil>=2.7->matplotlib->-r SLAM/requirements.txt (line 4)) (1.16.0)\n",
            "Requirement already satisfied: MarkupSafe>=2.0 in /usr/local/lib/python3.10/dist-packages (from jinja2->torch->-r SLAM/requirements.txt (line 2)) (2.1.3)\n",
            "Requirement already satisfied: charset-normalizer<4,>=2 in /usr/local/lib/python3.10/dist-packages (from requests->torchvision->-r SLAM/requirements.txt (line 3)) (3.3.1)\n",
            "Requirement already satisfied: idna<4,>=2.5 in /usr/local/lib/python3.10/dist-packages (from requests->torchvision->-r SLAM/requirements.txt (line 3)) (3.4)\n",
            "Requirement already satisfied: urllib3<3,>=1.21.1 in /usr/local/lib/python3.10/dist-packages (from requests->torchvision->-r SLAM/requirements.txt (line 3)) (2.0.7)\n",
            "Requirement already satisfied: certifi>=2017.4.17 in /usr/local/lib/python3.10/dist-packages (from requests->torchvision->-r SLAM/requirements.txt (line 3)) (2023.7.22)\n",
            "Requirement already satisfied: mpmath>=0.19 in /usr/local/lib/python3.10/dist-packages (from sympy->torch->-r SLAM/requirements.txt (line 2)) (1.3.0)\n",
            "Hello, World ---\n",
            "\n"
          ]
        }
      ],
      "source": [
        "# Clone a specific submodule\n",
        "!git clone https://github.com/lvllvl/SLAM.git\n",
        "\n",
        "# Install any dependencies\n",
        "!pip install -r SLAM/requirements.txt\n",
        "\n",
        "# Run your main Python script\n",
        "!python3 SLAM/main.py"
      ]
    },
    {
      "cell_type": "code",
      "source": [
        "# Download Comma10k repository\n",
        "!git clone https://github.com/commaai/comma10k.git\n",
        "\n",
        "# Create a directory for training and validation\n",
        "!mkdir -p dataset_root/train/images\n",
        "!mkdir -p dataset_root/train/masks\n",
        "!mkdir -p dataset_root/val/images\n",
        "!mkdir -p dataset_root/val/masks\n",
        "\n",
        "# Move images for training folder\n",
        "!mv comma10k/imgs/* dataset_root/train/images/\n",
        "!mv comma10k/masks/* dataset_root/train/masks/\n",
        "\n",
        "# Move images for validation folder\n",
        "!mv comma10k/imgs2/* dataset_root/val/images/\n",
        "!mv comma10k/masks2/* dataset_root/val/masks/"
      ],
      "metadata": {
        "colab": {
          "base_uri": "https://localhost:8080/"
        },
        "id": "_oksU_utjua2",
        "outputId": "e1e4fc26-fdca-49b8-c302-886324146351"
      },
      "execution_count": 2,
      "outputs": [
        {
          "output_type": "stream",
          "name": "stdout",
          "text": [
            "Cloning into 'comma10k'...\n",
            "remote: Enumerating objects: 70093, done.\u001b[K\n",
            "remote: Counting objects: 100% (538/538), done.\u001b[K\n",
            "remote: Compressing objects: 100% (482/482), done.\u001b[K\n",
            "remote: Total 70093 (delta 149), reused 432 (delta 55), pack-reused 69555\u001b[K\n",
            "Receiving objects: 100% (70093/70093), 12.32 GiB | 39.85 MiB/s, done.\n",
            "Resolving deltas: 100% (9528/9528), done.\n",
            "Updating files: 100% (24839/24839), done.\n"
          ]
        }
      ]
    },
    {
      "cell_type": "code",
      "source": [
        "!ls"
      ],
      "metadata": {
        "colab": {
          "base_uri": "https://localhost:8080/"
        },
        "id": "4QBonUrdn4yW",
        "outputId": "3e3b9877-7542-4fb5-8663-18d6b1944c51"
      },
      "execution_count": 5,
      "outputs": [
        {
          "output_type": "stream",
          "name": "stdout",
          "text": [
            "comma10k  imgs\tsample_data  SLAM\n"
          ]
        }
      ]
    },
    {
      "cell_type": "code",
      "source": [
        "!mv comma10k/imgs ."
      ],
      "metadata": {
        "id": "6q_vtUYlocjH"
      },
      "execution_count": 4,
      "outputs": []
    },
    {
      "cell_type": "code",
      "source": [
        "!tree"
      ],
      "metadata": {
        "colab": {
          "base_uri": "https://localhost:8080/"
        },
        "id": "8z5sL1nzsrNf",
        "outputId": "ecf3596b-ce05-4254-d383-40ad15479c07"
      },
      "execution_count": 6,
      "outputs": [
        {
          "output_type": "stream",
          "name": "stdout",
          "text": [
            "/bin/bash: line 1: tree: command not found\n"
          ]
        }
      ]
    },
    {
      "cell_type": "code",
      "source": [],
      "metadata": {
        "id": "8J1Fukc1IyTB"
      },
      "execution_count": null,
      "outputs": []
    }
  ]
}