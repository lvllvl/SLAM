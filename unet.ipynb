{
  "nbformat": 4,
  "nbformat_minor": 0,
  "metadata": {
    "colab": {
      "provenance": [],
      "authorship_tag": "ABX9TyMEhyO6opdVOp2xP/plgFaw",
      "include_colab_link": true
    },
    "kernelspec": {
      "name": "python3",
      "display_name": "Python 3"
    },
    "language_info": {
      "name": "python"
    }
  },
  "cells": [
    {
      "cell_type": "markdown",
      "metadata": {
        "id": "view-in-github",
        "colab_type": "text"
      },
      "source": [
        "<a href=\"https://colab.research.google.com/github/lvllvl/SLAM/blob/main/unet.ipynb\" target=\"_parent\"><img src=\"https://colab.research.google.com/assets/colab-badge.svg\" alt=\"Open In Colab\"/></a>"
      ]
    },
    {
      "cell_type": "markdown",
      "source": [
        "# Setup Section"
      ],
      "metadata": {
        "id": "cxYI1YlP14sy"
      }
    },
    {
      "cell_type": "markdown",
      "source": [
        "## Run script: Connect to google drive"
      ],
      "metadata": {
        "id": "mYLQgF8OynKe"
      }
    },
    {
      "cell_type": "code",
      "source": [
        "# Mount your drive, to save parts of your model, e.g., checkpoints, etc.\n",
        "from google.colab import drive\n",
        "drive.mount('/content/drive')"
      ],
      "metadata": {
        "colab": {
          "base_uri": "https://localhost:8080/"
        },
        "id": "5-NCSsTntvOK",
        "outputId": "0be2782c-44fa-4ba8-ebbc-2053bb02473e"
      },
      "execution_count": 1,
      "outputs": [
        {
          "output_type": "stream",
          "name": "stdout",
          "text": [
            "Mounted at /content/drive\n"
          ]
        }
      ]
    },
    {
      "cell_type": "markdown",
      "source": [
        "## Run Script: Git clone repos\n",
        "\n",
        "- comma10k repo\n",
        "- project repo (SLAM)\n",
        "\n",
        "### Run requirements.txt"
      ],
      "metadata": {
        "id": "aQPkyTqpy5GX"
      }
    },
    {
      "cell_type": "code",
      "execution_count": 3,
      "metadata": {
        "colab": {
          "base_uri": "https://localhost:8080/"
        },
        "id": "_W_MoUMPi2J-",
        "outputId": "e9d2e6af-16f1-4d28-95c7-5a1d7b1d2576"
      },
      "outputs": [
        {
          "output_type": "stream",
          "name": "stdout",
          "text": [
            "Cloning into 'SLAM'...\n",
            "remote: Enumerating objects: 108, done.\u001b[K\n",
            "remote: Counting objects: 100% (108/108), done.\u001b[K\n",
            "remote: Compressing objects: 100% (72/72), done.\u001b[K\n",
            "remote: Total 108 (delta 44), reused 86 (delta 27), pack-reused 0\u001b[K\n",
            "Receiving objects: 100% (108/108), 21.02 KiB | 3.00 MiB/s, done.\n",
            "Resolving deltas: 100% (44/44), done.\n",
            "fatal: destination path 'comma10k' already exists and is not an empty directory.\n",
            "Requirement already satisfied: numpy in /usr/local/lib/python3.10/dist-packages (from -r SLAM/requirements.txt (line 1)) (1.23.5)\n",
            "Requirement already satisfied: torch in /usr/local/lib/python3.10/dist-packages (from -r SLAM/requirements.txt (line 2)) (2.1.0+cu118)\n",
            "Requirement already satisfied: torchvision in /usr/local/lib/python3.10/dist-packages (from -r SLAM/requirements.txt (line 3)) (0.16.0+cu118)\n",
            "Requirement already satisfied: matplotlib in /usr/local/lib/python3.10/dist-packages (from -r SLAM/requirements.txt (line 4)) (3.7.1)\n",
            "Requirement already satisfied: opencv-python-headless in /usr/local/lib/python3.10/dist-packages (from -r SLAM/requirements.txt (line 5)) (4.8.1.78)\n",
            "Requirement already satisfied: Pillow in /usr/local/lib/python3.10/dist-packages (from -r SLAM/requirements.txt (line 6)) (9.4.0)\n",
            "Requirement already satisfied: scipy in /usr/local/lib/python3.10/dist-packages (from -r SLAM/requirements.txt (line 7)) (1.11.3)\n",
            "Requirement already satisfied: tqdm in /usr/local/lib/python3.10/dist-packages (from -r SLAM/requirements.txt (line 8)) (4.66.1)\n",
            "Requirement already satisfied: pandas in /usr/local/lib/python3.10/dist-packages (from -r SLAM/requirements.txt (line 9)) (1.5.3)\n",
            "Requirement already satisfied: scikit-learn in /usr/local/lib/python3.10/dist-packages (from -r SLAM/requirements.txt (line 10)) (1.2.2)\n",
            "Requirement already satisfied: filelock in /usr/local/lib/python3.10/dist-packages (from torch->-r SLAM/requirements.txt (line 2)) (3.13.1)\n",
            "Requirement already satisfied: typing-extensions in /usr/local/lib/python3.10/dist-packages (from torch->-r SLAM/requirements.txt (line 2)) (4.5.0)\n",
            "Requirement already satisfied: sympy in /usr/local/lib/python3.10/dist-packages (from torch->-r SLAM/requirements.txt (line 2)) (1.12)\n",
            "Requirement already satisfied: networkx in /usr/local/lib/python3.10/dist-packages (from torch->-r SLAM/requirements.txt (line 2)) (3.2.1)\n",
            "Requirement already satisfied: jinja2 in /usr/local/lib/python3.10/dist-packages (from torch->-r SLAM/requirements.txt (line 2)) (3.1.2)\n",
            "Requirement already satisfied: fsspec in /usr/local/lib/python3.10/dist-packages (from torch->-r SLAM/requirements.txt (line 2)) (2023.6.0)\n",
            "Requirement already satisfied: triton==2.1.0 in /usr/local/lib/python3.10/dist-packages (from torch->-r SLAM/requirements.txt (line 2)) (2.1.0)\n",
            "Requirement already satisfied: requests in /usr/local/lib/python3.10/dist-packages (from torchvision->-r SLAM/requirements.txt (line 3)) (2.31.0)\n",
            "Requirement already satisfied: contourpy>=1.0.1 in /usr/local/lib/python3.10/dist-packages (from matplotlib->-r SLAM/requirements.txt (line 4)) (1.2.0)\n",
            "Requirement already satisfied: cycler>=0.10 in /usr/local/lib/python3.10/dist-packages (from matplotlib->-r SLAM/requirements.txt (line 4)) (0.12.1)\n",
            "Requirement already satisfied: fonttools>=4.22.0 in /usr/local/lib/python3.10/dist-packages (from matplotlib->-r SLAM/requirements.txt (line 4)) (4.44.0)\n",
            "Requirement already satisfied: kiwisolver>=1.0.1 in /usr/local/lib/python3.10/dist-packages (from matplotlib->-r SLAM/requirements.txt (line 4)) (1.4.5)\n",
            "Requirement already satisfied: packaging>=20.0 in /usr/local/lib/python3.10/dist-packages (from matplotlib->-r SLAM/requirements.txt (line 4)) (23.2)\n",
            "Requirement already satisfied: pyparsing>=2.3.1 in /usr/local/lib/python3.10/dist-packages (from matplotlib->-r SLAM/requirements.txt (line 4)) (3.1.1)\n",
            "Requirement already satisfied: python-dateutil>=2.7 in /usr/local/lib/python3.10/dist-packages (from matplotlib->-r SLAM/requirements.txt (line 4)) (2.8.2)\n",
            "Requirement already satisfied: pytz>=2020.1 in /usr/local/lib/python3.10/dist-packages (from pandas->-r SLAM/requirements.txt (line 9)) (2023.3.post1)\n",
            "Requirement already satisfied: joblib>=1.1.1 in /usr/local/lib/python3.10/dist-packages (from scikit-learn->-r SLAM/requirements.txt (line 10)) (1.3.2)\n",
            "Requirement already satisfied: threadpoolctl>=2.0.0 in /usr/local/lib/python3.10/dist-packages (from scikit-learn->-r SLAM/requirements.txt (line 10)) (3.2.0)\n",
            "Requirement already satisfied: six>=1.5 in /usr/local/lib/python3.10/dist-packages (from python-dateutil>=2.7->matplotlib->-r SLAM/requirements.txt (line 4)) (1.16.0)\n",
            "Requirement already satisfied: MarkupSafe>=2.0 in /usr/local/lib/python3.10/dist-packages (from jinja2->torch->-r SLAM/requirements.txt (line 2)) (2.1.3)\n",
            "Requirement already satisfied: charset-normalizer<4,>=2 in /usr/local/lib/python3.10/dist-packages (from requests->torchvision->-r SLAM/requirements.txt (line 3)) (3.3.2)\n",
            "Requirement already satisfied: idna<4,>=2.5 in /usr/local/lib/python3.10/dist-packages (from requests->torchvision->-r SLAM/requirements.txt (line 3)) (3.4)\n",
            "Requirement already satisfied: urllib3<3,>=1.21.1 in /usr/local/lib/python3.10/dist-packages (from requests->torchvision->-r SLAM/requirements.txt (line 3)) (2.0.7)\n",
            "Requirement already satisfied: certifi>=2017.4.17 in /usr/local/lib/python3.10/dist-packages (from requests->torchvision->-r SLAM/requirements.txt (line 3)) (2023.7.22)\n",
            "Requirement already satisfied: mpmath>=0.19 in /usr/local/lib/python3.10/dist-packages (from sympy->torch->-r SLAM/requirements.txt (line 2)) (1.3.0)\n"
          ]
        }
      ],
      "source": [
        "# Clone a specific submodule\n",
        "!git clone https://github.com/lvllvl/SLAM.git\n",
        "\n",
        "# Download Comma10k repository\n",
        "!git clone https://github.com/commaai/comma10k.git\n",
        "\n",
        "# Install any dependencies\n",
        "!pip install -r SLAM/requirements.txt\n"
      ]
    },
    {
      "cell_type": "markdown",
      "source": [
        "## Setup folder structure\n",
        "\n",
        "- Create new folders\n",
        "- Move `comma10k` files into the right folder structure"
      ],
      "metadata": {
        "id": "X0TaUbRxzMyh"
      }
    },
    {
      "cell_type": "code",
      "source": [
        "# Create a directory for training and validation\n",
        "!mkdir -p dataset_root/train/images\n",
        "!mkdir -p dataset_root/train/masks\n",
        "!mkdir -p dataset_root/val/images\n",
        "!mkdir -p dataset_root/val/masks\n",
        "\n",
        "# Move images for training folder\n",
        "!mv comma10k/imgs/* dataset_root/train/images/\n",
        "!mv comma10k/masks/* dataset_root/train/masks/\n",
        "\n",
        "# Move images for validation folder\n",
        "!mv comma10k/imgs2/* dataset_root/val/images/\n",
        "!mv comma10k/masks2/* dataset_root/val/masks/\n",
        "\n",
        "# Show all the folders so far\n",
        "!ls\n",
        "!ls dataset_root/"
      ],
      "metadata": {
        "id": "_oksU_utjua2"
      },
      "execution_count": 4,
      "outputs": []
    },
    {
      "cell_type": "code",
      "source": [
        "# Verify all same number of files are in the folders\n",
        "\n",
        "!ls -l dataset_root/train/images | grep ^- | wc -l\n",
        "!ls -l dataset_root/train/masks | grep ^- | wc -l\n",
        "\n",
        "!ls -l dataset_root/val/images | grep ^- | wc -l\n",
        "!ls -l dataset_root/val/masks | grep ^- | wc -l"
      ],
      "metadata": {
        "colab": {
          "base_uri": "https://localhost:8080/"
        },
        "id": "4QBonUrdn4yW",
        "outputId": "b0ea6c4a-af10-4c2c-f226-903a1bbb828b"
      },
      "execution_count": 14,
      "outputs": [
        {
          "output_type": "stream",
          "name": "stdout",
          "text": [
            "9888\n",
            "9888\n",
            "2000\n",
            "2000\n"
          ]
        }
      ]
    },
    {
      "cell_type": "code",
      "source": [
        "!mv SLAM/*.py dataset_root/"
      ],
      "metadata": {
        "id": "HFwkqFBWEiWL"
      },
      "execution_count": 20,
      "outputs": []
    },
    {
      "cell_type": "markdown",
      "source": [
        "# Model Section"
      ],
      "metadata": {
        "id": "SWlps7qFFCSk"
      }
    },
    {
      "cell_type": "markdown",
      "source": [
        "## Segmentation Model: U-net Segmentaiton"
      ],
      "metadata": {
        "id": "fchpP5_WCGkX"
      }
    },
    {
      "cell_type": "code",
      "source": [
        "!python dataset_root/train.py"
      ],
      "metadata": {
        "id": "s7NAp5NYEt_2",
        "outputId": "dae499c0-62b6-4c9e-bd4a-fd628637ca0b",
        "colab": {
          "base_uri": "https://localhost:8080/"
        }
      },
      "execution_count": 24,
      "outputs": [
        {
          "output_type": "stream",
          "name": "stdout",
          "text": [
            "Traceback (most recent call last):\n",
            "  File \"/content/dataset_root/train.py\", line 4, in <module>\n",
            "    from model import UNet\n",
            "  File \"/content/dataset_root/model.py\", line 80, in <module>\n",
            "    unet_model = UNet()\n",
            "  File \"/content/dataset_root/model.py\", line 31, in __init__\n",
            "    self.up_conv3 = self.up_conv( 1024, 512 )\n",
            "  File \"/usr/local/lib/python3.10/dist-packages/torch/nn/modules/module.py\", line 1695, in __getattr__\n",
            "    raise AttributeError(f\"'{type(self).__name__}' object has no attribute '{name}'\")\n",
            "AttributeError: 'UNet' object has no attribute 'up_conv'\n"
          ]
        }
      ]
    },
    {
      "cell_type": "code",
      "source": [],
      "metadata": {
        "id": "zMnMCZbtDrcY"
      },
      "execution_count": null,
      "outputs": []
    }
  ]
}