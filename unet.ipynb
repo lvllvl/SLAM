{
  "nbformat": 4,
  "nbformat_minor": 0,
  "metadata": {
    "colab": {
      "provenance": [],
      "gpuType": "V100",
      "authorship_tag": "ABX9TyOXejhLfxoe4y2VBzuV/mEY",
      "include_colab_link": true
    },
    "kernelspec": {
      "name": "python3",
      "display_name": "Python 3"
    },
    "language_info": {
      "name": "python"
    }
  },
  "cells": [
    {
      "cell_type": "markdown",
      "metadata": {
        "id": "view-in-github",
        "colab_type": "text"
      },
      "source": [
        "<a href=\"https://colab.research.google.com/github/lvllvl/SLAM/blob/main/unet.ipynb\" target=\"_parent\"><img src=\"https://colab.research.google.com/assets/colab-badge.svg\" alt=\"Open In Colab\"/></a>"
      ]
    },
    {
      "cell_type": "markdown",
      "source": [
        "# Setup Section"
      ],
      "metadata": {
        "id": "cxYI1YlP14sy"
      }
    },
    {
      "cell_type": "markdown",
      "source": [
        "## Run script: Connect to google drive"
      ],
      "metadata": {
        "id": "mYLQgF8OynKe"
      }
    },
    {
      "cell_type": "code",
      "source": [
        "# Mount your drive, to save parts of your model, e.g., checkpoints, etc.\n",
        "from google.colab import drive\n",
        "drive.mount('/content/drive')"
      ],
      "metadata": {
        "colab": {
          "base_uri": "https://localhost:8080/"
        },
        "id": "5-NCSsTntvOK",
        "outputId": "139412f7-cd16-4894-bbed-adba82722de3"
      },
      "execution_count": null,
      "outputs": [
        {
          "output_type": "stream",
          "name": "stdout",
          "text": [
            "Mounted at /content/drive\n"
          ]
        }
      ]
    },
    {
      "cell_type": "markdown",
      "source": [
        "## Run Script: Git clone repos\n",
        "\n",
        "- comma10k repo\n",
        "- project repo (SLAM)"
      ],
      "metadata": {
        "id": "aQPkyTqpy5GX"
      }
    },
    {
      "cell_type": "markdown",
      "source": [
        "## clone repo, org folder structures"
      ],
      "metadata": {
        "id": "YhPK5DgMNSPi"
      }
    },
    {
      "cell_type": "code",
      "source": [
        "import os\n",
        "import shutil\n",
        "\n",
        "def clone_repo(repo_url, dest_path):\n",
        "    if os.path.exists(dest_path):\n",
        "        print(f\"Directory {dest_path} already exists. Removing and re-cloning.\")\n",
        "        shutil.rmtree(dest_path)\n",
        "    os.system(f\"git clone {repo_url} {dest_path}\")\n",
        "\n",
        "# Clone repos\n",
        "clone_repo('https://github.com/lvllvl/SLAM.git', 'SLAM')\n",
        "clone_repo('https://github.com/commaai/comma10k.git', 'comma10k')\n",
        "\n",
        "\n",
        "!python SLAM/setup.py\n",
        "!python dataset_root/analysis.py"
      ],
      "metadata": {
        "colab": {
          "base_uri": "https://localhost:8080/"
        },
        "id": "2A6wD4MwIrxa",
        "outputId": "c6c127ab-1ce1-4868-c341-91fc41b43504"
      },
      "execution_count": null,
      "outputs": [
        {
          "output_type": "stream",
          "name": "stdout",
          "text": [
            "['.config', 'SLAM', 'drive', 'comma10k', 'dataset_root', 'sample_data']\n",
            "['train.py', 'train', 'utils.py', 'model.py', 'validate.py', 'val', 'setup.py', 'dataloader.py', 'config.py']\n",
            "Done renaming mask files.\n",
            "\n",
            "\n",
            "\n",
            "python3: can't open file '/content/SLAM/analysis.py': [Errno 2] No such file or directory\n"
          ]
        }
      ]
    },
    {
      "cell_type": "code",
      "source": [
        "# Verify all same number of files are in the folders\n",
        "\n",
        "!ls -l dataset_root/train/images | grep ^- | wc -l\n",
        "!ls -l dataset_root/train/masks | grep ^- | wc -l\n",
        "\n",
        "!ls -l dataset_root/val/images | grep ^- | wc -l\n",
        "!ls -l dataset_root/val/masks | grep ^- | wc -l"
      ],
      "metadata": {
        "colab": {
          "base_uri": "https://localhost:8080/"
        },
        "id": "4QBonUrdn4yW",
        "outputId": "5172315d-3ddb-4bb0-d462-15248c84d9c2"
      },
      "execution_count": null,
      "outputs": [
        {
          "output_type": "stream",
          "name": "stdout",
          "text": [
            "9888\n",
            "9888\n",
            "2000\n",
            "2000\n"
          ]
        }
      ]
    },
    {
      "cell_type": "markdown",
      "source": [
        "# Model Section"
      ],
      "metadata": {
        "id": "SWlps7qFFCSk"
      }
    },
    {
      "cell_type": "markdown",
      "source": [
        "## Segmentation Model: U-net Segmentaiton"
      ],
      "metadata": {
        "id": "fchpP5_WCGkX"
      }
    },
    {
      "cell_type": "code",
      "source": [
        "!python dataset_root/train.py"
      ],
      "metadata": {
        "colab": {
          "base_uri": "https://localhost:8080/"
        },
        "id": "s7NAp5NYEt_2",
        "outputId": "934f6d6f-ec93-484d-fa51-840a6ecac98d"
      },
      "execution_count": null,
      "outputs": [
        {
          "output_type": "stream",
          "name": "stdout",
          "text": [
            "Model Summary:\n",
            "UNet(\n",
            "  (enc_conv0): Sequential(\n",
            "    (0): Conv2d(3, 64, kernel_size=(3, 3), stride=(1, 1), padding=(1, 1))\n",
            "    (1): ReLU(inplace=True)\n",
            "    (2): Conv2d(64, 64, kernel_size=(3, 3), stride=(1, 1), padding=(1, 1))\n",
            "    (3): ReLU(inplace=True)\n",
            "  )\n",
            "  (enc_conv1): Sequential(\n",
            "    (0): Conv2d(64, 128, kernel_size=(3, 3), stride=(1, 1), padding=(1, 1))\n",
            "    (1): ReLU(inplace=True)\n",
            "    (2): Conv2d(128, 128, kernel_size=(3, 3), stride=(1, 1), padding=(1, 1))\n",
            "    (3): ReLU(inplace=True)\n",
            "  )\n",
            "  (enc_conv2): Sequential(\n",
            "    (0): Conv2d(128, 256, kernel_size=(3, 3), stride=(1, 1), padding=(1, 1))\n",
            "    (1): ReLU(inplace=True)\n",
            "    (2): Conv2d(256, 256, kernel_size=(3, 3), stride=(1, 1), padding=(1, 1))\n",
            "    (3): ReLU(inplace=True)\n",
            "  )\n",
            "  (enc_conv3): Sequential(\n",
            "    (0): Conv2d(256, 512, kernel_size=(3, 3), stride=(1, 1), padding=(1, 1))\n",
            "    (1): ReLU(inplace=True)\n",
            "    (2): Conv2d(512, 512, kernel_size=(3, 3), stride=(1, 1), padding=(1, 1))\n",
            "    (3): ReLU(inplace=True)\n",
            "  )\n",
            "  (bottleneck): Sequential(\n",
            "    (0): Conv2d(512, 1024, kernel_size=(3, 3), stride=(1, 1), padding=(1, 1))\n",
            "    (1): ReLU(inplace=True)\n",
            "    (2): Conv2d(1024, 1024, kernel_size=(3, 3), stride=(1, 1), padding=(1, 1))\n",
            "    (3): ReLU(inplace=True)\n",
            "  )\n",
            "  (up_conv3): ConvTranspose2d(1024, 512, kernel_size=(2, 2), stride=(2, 2))\n",
            "  (dec_conv3): Sequential(\n",
            "    (0): Conv2d(1024, 512, kernel_size=(3, 3), stride=(1, 1), padding=(1, 1))\n",
            "    (1): ReLU(inplace=True)\n",
            "    (2): Conv2d(512, 512, kernel_size=(3, 3), stride=(1, 1), padding=(1, 1))\n",
            "    (3): ReLU(inplace=True)\n",
            "  )\n",
            "  (up_conv2): ConvTranspose2d(512, 256, kernel_size=(2, 2), stride=(2, 2))\n",
            "  (dec_conv2): Sequential(\n",
            "    (0): Conv2d(512, 256, kernel_size=(3, 3), stride=(1, 1), padding=(1, 1))\n",
            "    (1): ReLU(inplace=True)\n",
            "    (2): Conv2d(256, 256, kernel_size=(3, 3), stride=(1, 1), padding=(1, 1))\n",
            "    (3): ReLU(inplace=True)\n",
            "  )\n",
            "  (up_conv1): ConvTranspose2d(256, 128, kernel_size=(2, 2), stride=(2, 2))\n",
            "  (dec_conv1): Sequential(\n",
            "    (0): Conv2d(256, 128, kernel_size=(3, 3), stride=(1, 1), padding=(1, 1))\n",
            "    (1): ReLU(inplace=True)\n",
            "    (2): Conv2d(128, 128, kernel_size=(3, 3), stride=(1, 1), padding=(1, 1))\n",
            "    (3): ReLU(inplace=True)\n",
            "  )\n",
            "  (up_conv0): ConvTranspose2d(128, 64, kernel_size=(2, 2), stride=(2, 2))\n",
            "  (dec_conv0): Sequential(\n",
            "    (0): Conv2d(128, 64, kernel_size=(3, 3), stride=(1, 1), padding=(1, 1))\n",
            "    (1): ReLU(inplace=True)\n",
            "    (2): Conv2d(64, 64, kernel_size=(3, 3), stride=(1, 1), padding=(1, 1))\n",
            "    (3): ReLU(inplace=True)\n",
            "  )\n",
            "  (final_conv): Conv2d(64, 5, kernel_size=(1, 1), stride=(1, 1))\n",
            ")\n",
            "STAGE:2023-11-15 19:19:47 8027:8027 ActivityProfilerController.cpp:312] Completed Stage: Warm Up\n",
            "Batch 1 / 309, Current Loss: 1.5918\n",
            "Batch 2 / 309, Current Loss: 1.5752\n",
            "Batch 3 / 309, Current Loss: 1.5620\n",
            "Batch 4 / 309, Current Loss: 1.5515\n",
            "Batch 5 / 309, Current Loss: 1.5360\n",
            "Batch 6 / 309, Current Loss: 1.5185\n",
            "Batch 7 / 309, Current Loss: 1.5094\n",
            "Batch 8 / 309, Current Loss: 1.4983\n",
            "Batch 9 / 309, Current Loss: 1.4747\n",
            "Batch 10 / 309, Current Loss: 1.4425\n",
            "Batch 11 / 309, Current Loss: 1.4387\n",
            "Batch 12 / 309, Current Loss: 1.3936\n",
            "Batch 13 / 309, Current Loss: 1.3689\n",
            "Batch 14 / 309, Current Loss: 1.3363\n",
            "Batch 15 / 309, Current Loss: 1.3059\n",
            "Batch 16 / 309, Current Loss: 1.2351\n",
            "Batch 17 / 309, Current Loss: 1.1721\n",
            "Batch 18 / 309, Current Loss: 1.0699\n",
            "Batch 19 / 309, Current Loss: 0.8974\n",
            "Batch 20 / 309, Current Loss: 0.7310\n",
            "Batch 21 / 309, Current Loss: 0.3401\n",
            "Batch 22 / 309, Current Loss: 0.0604\n",
            "Batch 23 / 309, Current Loss: 0.0061\n",
            "Batch 24 / 309, Current Loss: 0.0006\n",
            "Batch 25 / 309, Current Loss: 0.0000\n",
            "Batch 26 / 309, Current Loss: 0.0000\n",
            "Batch 27 / 309, Current Loss: 0.0000\n",
            "Batch 28 / 309, Current Loss: 0.0000\n",
            "Batch 29 / 309, Current Loss: 0.0000\n",
            "Batch 30 / 309, Current Loss: 0.0000\n",
            "Batch 31 / 309, Current Loss: 0.0000\n",
            "Batch 32 / 309, Current Loss: 0.0000\n",
            "Batch 33 / 309, Current Loss: 0.0000\n",
            "Batch 34 / 309, Current Loss: 0.0000\n",
            "Batch 35 / 309, Current Loss: 0.0000\n",
            "Batch 36 / 309, Current Loss: 0.0000\n",
            "Batch 37 / 309, Current Loss: 0.0000\n",
            "Batch 38 / 309, Current Loss: 0.0000\n",
            "Batch 39 / 309, Current Loss: 0.0000\n",
            "Batch 40 / 309, Current Loss: 0.0000\n",
            "Batch 41 / 309, Current Loss: 0.0000\n",
            "Batch 42 / 309, Current Loss: 0.0000\n",
            "Batch 43 / 309, Current Loss: 0.0000\n",
            "Batch 44 / 309, Current Loss: 0.0000\n",
            "Batch 45 / 309, Current Loss: 0.0000\n",
            "Batch 46 / 309, Current Loss: 0.0000\n",
            "STAGE:2023-11-15 19:21:49 8027:8027 ActivityProfilerController.cpp:318] Completed Stage: Collection\n",
            "STAGE:2023-11-15 19:21:49 8027:8027 ActivityProfilerController.cpp:322] Completed Stage: Post Processing\n"
          ]
        }
      ]
    },
    {
      "cell_type": "code",
      "source": [],
      "metadata": {
        "id": "bDoXDT5DOdEP"
      },
      "execution_count": null,
      "outputs": []
    },
    {
      "cell_type": "code",
      "source": [],
      "metadata": {
        "id": "2_fXsvivalOM"
      },
      "execution_count": null,
      "outputs": []
    }
  ]
}