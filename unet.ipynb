{
  "nbformat": 4,
  "nbformat_minor": 0,
  "metadata": {
    "colab": {
      "provenance": [],
      "authorship_tag": "ABX9TyODLfZd3Q2f+bPmPxRLVfCS",
      "include_colab_link": true
    },
    "kernelspec": {
      "name": "python3",
      "display_name": "Python 3"
    },
    "language_info": {
      "name": "python"
    }
  },
  "cells": [
    {
      "cell_type": "markdown",
      "metadata": {
        "id": "view-in-github",
        "colab_type": "text"
      },
      "source": [
        "<a href=\"https://colab.research.google.com/github/lvllvl/SLAM/blob/main/unet.ipynb\" target=\"_parent\"><img src=\"https://colab.research.google.com/assets/colab-badge.svg\" alt=\"Open In Colab\"/></a>"
      ]
    },
    {
      "cell_type": "markdown",
      "source": [
        "# Setup Section"
      ],
      "metadata": {
        "id": "cxYI1YlP14sy"
      }
    },
    {
      "cell_type": "markdown",
      "source": [
        "## Run script: Connect to google drive"
      ],
      "metadata": {
        "id": "mYLQgF8OynKe"
      }
    },
    {
      "cell_type": "code",
      "source": [
        "# Mount your drive, to save parts of your model, e.g., checkpoints, etc.\n",
        "from google.colab import drive\n",
        "drive.mount('/content/drive')"
      ],
      "metadata": {
        "colab": {
          "base_uri": "https://localhost:8080/"
        },
        "id": "5-NCSsTntvOK",
        "outputId": "0fa80dcd-3880-4082-cd09-16cf3bf1b196"
      },
      "execution_count": 13,
      "outputs": [
        {
          "output_type": "stream",
          "name": "stdout",
          "text": [
            "Drive already mounted at /content/drive; to attempt to forcibly remount, call drive.mount(\"/content/drive\", force_remount=True).\n"
          ]
        }
      ]
    },
    {
      "cell_type": "markdown",
      "source": [
        "## Run Script: Git clone repos\n",
        "\n",
        "- comma10k repo\n",
        "- project repo (SLAM)\n",
        "\n",
        "### Run requirements.txt"
      ],
      "metadata": {
        "id": "aQPkyTqpy5GX"
      }
    },
    {
      "cell_type": "markdown",
      "source": [
        "## clone repo, org folder structures"
      ],
      "metadata": {
        "id": "YhPK5DgMNSPi"
      }
    },
    {
      "cell_type": "code",
      "source": [
        "import os\n",
        "import shutil\n",
        "\n",
        "def clone_repo(repo_url, dest_path):\n",
        "    if os.path.exists(dest_path):\n",
        "        print(f\"Directory {dest_path} already exists. Removing and re-cloning.\")\n",
        "        shutil.rmtree(dest_path)\n",
        "    os.system(f\"git clone {repo_url} {dest_path}\")\n",
        "\n",
        "# Clone repos\n",
        "clone_repo('https://github.com/lvllvl/SLAM.git', 'SLAM')\n",
        "clone_repo('https://github.com/commaai/comma10k.git', 'comma10k')\n",
        "\n",
        "\n",
        "# import os\n",
        "# import shutil\n",
        "\n",
        "def create_directory(path):\n",
        "    if not os.path.exists(path):\n",
        "        os.makedirs(path)\n",
        "\n",
        "def move_files(src, dst):\n",
        "    if not os.path.exists(src):\n",
        "        print(f\"Source directory {src} does not exist.\")\n",
        "        return\n",
        "    for filename in os.listdir(src):\n",
        "        src_file = os.path.join(src, filename)\n",
        "        dst_file = os.path.join(dst, filename)\n",
        "        try:\n",
        "            shutil.move(src_file, dst_file)\n",
        "        except Exception as e:\n",
        "            print(f\"Error moving {src_file} to {dst_file}: {e}\")\n",
        "\n",
        "\n",
        "def move_selected_files(src, dst, prefix=None, suffix=None):\n",
        "    \"\"\"\n",
        "    Move files from src to dst based on prefix and/or suffix criteria.\n",
        "\n",
        "    :param src: Source directory\n",
        "    :param dst: Destination directory\n",
        "    :param prefix: Prefix to filter files (optional)\n",
        "    :param suffix: Suffix to filter files (optional)\n",
        "    \"\"\"\n",
        "    if not os.path.exists(src):\n",
        "        print(f\"Source directory {src} does not exist.\")\n",
        "        return\n",
        "    for filename in os.listdir(src):\n",
        "        if prefix and not filename.startswith(prefix):\n",
        "            continue\n",
        "        if suffix and not filename.endswith(suffix):\n",
        "            continue\n",
        "        src_file = os.path.join(src, filename)\n",
        "        dst_file = os.path.join(dst, filename)\n",
        "        try:\n",
        "            shutil.move(src_file, dst_file)\n",
        "        except Exception as e:\n",
        "            print(f\"Error moving {src_file} to {dst_file}: {e}\")\n",
        "\n",
        "\n",
        "# Create directories for training and validation\n",
        "create_directory('dataset_root/train/images')\n",
        "create_directory('dataset_root/train/masks')\n",
        "create_directory('dataset_root/val/images')\n",
        "create_directory('dataset_root/val/masks')\n",
        "\n",
        "# Move images and masks to training folder\n",
        "move_files('comma10k/imgs', 'dataset_root/train/images')\n",
        "move_files('comma10k/masks', 'dataset_root/train/masks')\n",
        "\n",
        "# Move images and masks to validation folder\n",
        "move_files('comma10k/imgs2', 'dataset_root/val/images')\n",
        "move_files('comma10k/masks2', 'dataset_root/val/masks')\n",
        "\n",
        "# Move SLAM *.py files to the dataset_root folder\n",
        "move_selected_files( 'SLAM/', 'dataset_root/', prefix=None, suffix='.py' )\n",
        "\n",
        "# List directories to verify\n",
        "print(os.listdir('.'))\n",
        "print(os.listdir('dataset_root'))\n"
      ],
      "metadata": {
        "id": "2A6wD4MwIrxa",
        "outputId": "c0dd242d-5584-4431-afda-43e887ac8d2f",
        "colab": {
          "base_uri": "https://localhost:8080/"
        }
      },
      "execution_count": 15,
      "outputs": [
        {
          "output_type": "stream",
          "name": "stdout",
          "text": [
            "Directory SLAM already exists. Removing and re-cloning.\n",
            "Directory comma10k already exists. Removing and re-cloning.\n"
          ]
        }
      ]
    },
    {
      "cell_type": "code",
      "source": [
        "# Verify all same number of files are in the folders\n",
        "\n",
        "!ls -l dataset_root/train/images | grep ^- | wc -l\n",
        "!ls -l dataset_root/train/masks | grep ^- | wc -l\n",
        "\n",
        "!ls -l dataset_root/val/images | grep ^- | wc -l\n",
        "!ls -l dataset_root/val/masks | grep ^- | wc -l"
      ],
      "metadata": {
        "colab": {
          "base_uri": "https://localhost:8080/"
        },
        "id": "4QBonUrdn4yW",
        "outputId": "b3cab209-1805-49cf-8eb4-df4d32bfca8f"
      },
      "execution_count": 20,
      "outputs": [
        {
          "output_type": "stream",
          "name": "stdout",
          "text": [
            "9888\n",
            "9888\n",
            "2000\n",
            "2000\n"
          ]
        }
      ]
    },
    {
      "cell_type": "markdown",
      "source": [
        "# Model Section"
      ],
      "metadata": {
        "id": "SWlps7qFFCSk"
      }
    },
    {
      "cell_type": "markdown",
      "source": [
        "## Segmentation Model: U-net Segmentaiton"
      ],
      "metadata": {
        "id": "fchpP5_WCGkX"
      }
    },
    {
      "cell_type": "code",
      "source": [
        "!python dataset_root/train.py"
      ],
      "metadata": {
        "colab": {
          "base_uri": "https://localhost:8080/"
        },
        "id": "s7NAp5NYEt_2",
        "outputId": "1ebc1577-69ef-4e42-ebae-56118ff73d55"
      },
      "execution_count": 21,
      "outputs": [
        {
          "output_type": "stream",
          "name": "stdout",
          "text": [
            "Traceback (most recent call last):\n",
            "  File \"/content/dataset_root/train.py\", line 101, in <module>\n",
            "    main()\n",
            "  File \"/content/dataset_root/train.py\", line 82, in main\n",
            "    train_loss = train_one_epoch(model, train_loader, optimizer, criterion, device)\n",
            "  File \"/content/dataset_root/train.py\", line 29, in train_one_epoch\n",
            "    for images, masks in dataloader:\n",
            "  File \"/usr/local/lib/python3.10/dist-packages/torch/utils/data/dataloader.py\", line 630, in __next__\n",
            "    data = self._next_data()\n",
            "  File \"/usr/local/lib/python3.10/dist-packages/torch/utils/data/dataloader.py\", line 674, in _next_data\n",
            "    data = self._dataset_fetcher.fetch(index)  # may raise StopIteration\n",
            "  File \"/usr/local/lib/python3.10/dist-packages/torch/utils/data/_utils/fetch.py\", line 51, in fetch\n",
            "    data = [self.dataset[idx] for idx in possibly_batched_index]\n",
            "  File \"/usr/local/lib/python3.10/dist-packages/torch/utils/data/_utils/fetch.py\", line 51, in <listcomp>\n",
            "    data = [self.dataset[idx] for idx in possibly_batched_index]\n",
            "  File \"/content/dataset_root/dataloader.py\", line 33, in __getitem__\n",
            "    mask = Image.open(mask_path).convert(\"L\")  # Assuming mask is a grayscale image\n",
            "  File \"/usr/local/lib/python3.10/dist-packages/PIL/Image.py\", line 3227, in open\n",
            "    fp = builtins.open(filename, \"rb\")\n",
            "FileNotFoundError: [Errno 2] No such file or directory: 'dataset_root/train/masks/7299_d33fe4c1292e1017_2019-02-22--18-28-03_11_17_mask.png'\n"
          ]
        }
      ]
    },
    {
      "cell_type": "code",
      "source": [
        "#!ls dataset_root/train/masks/3521_2665ce6f7b1dce08_2018-10-05--18-18-06_6_82_mask.png\n",
        "!ls dataset_root/train/masks/3521*"
      ],
      "metadata": {
        "id": "zMnMCZbtDrcY",
        "outputId": "12e75444-f8a1-4fcf-9be1-12929c4981c1",
        "colab": {
          "base_uri": "https://localhost:8080/"
        }
      },
      "execution_count": null,
      "outputs": [
        {
          "output_type": "stream",
          "name": "stdout",
          "text": [
            "dataset_root/train/masks/3521_2665ce6f7b1dce08_2018-10-05--18-18-06_6_82.png\n"
          ]
        }
      ]
    },
    {
      "cell_type": "code",
      "source": [],
      "metadata": {
        "id": "xZpFklEGDgBm"
      },
      "execution_count": null,
      "outputs": []
    }
  ]
}