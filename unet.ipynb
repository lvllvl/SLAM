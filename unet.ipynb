{
  "nbformat": 4,
  "nbformat_minor": 0,
  "metadata": {
    "colab": {
      "provenance": [],
      "authorship_tag": "ABX9TyNKmtq3XWlIgsFlpEx+9ius",
      "include_colab_link": true
    },
    "kernelspec": {
      "name": "python3",
      "display_name": "Python 3"
    },
    "language_info": {
      "name": "python"
    }
  },
  "cells": [
    {
      "cell_type": "markdown",
      "metadata": {
        "id": "view-in-github",
        "colab_type": "text"
      },
      "source": [
        "<a href=\"https://colab.research.google.com/github/lvllvl/SLAM/blob/main/unet.ipynb\" target=\"_parent\"><img src=\"https://colab.research.google.com/assets/colab-badge.svg\" alt=\"Open In Colab\"/></a>"
      ]
    },
    {
      "cell_type": "markdown",
      "source": [
        "# Setup Section"
      ],
      "metadata": {
        "id": "cxYI1YlP14sy"
      }
    },
    {
      "cell_type": "markdown",
      "source": [
        "## Run script: Connect to google drive"
      ],
      "metadata": {
        "id": "mYLQgF8OynKe"
      }
    },
    {
      "cell_type": "code",
      "source": [
        "# Mount your drive, to save parts of your model, e.g., checkpoints, etc.\n",
        "from google.colab import drive\n",
        "drive.mount('/content/drive')"
      ],
      "metadata": {
        "colab": {
          "base_uri": "https://localhost:8080/"
        },
        "id": "5-NCSsTntvOK",
        "outputId": "aef3eb40-f778-4cda-f0a0-e00b8eb7d999"
      },
      "execution_count": 1,
      "outputs": [
        {
          "output_type": "stream",
          "name": "stdout",
          "text": [
            "Mounted at /content/drive\n"
          ]
        }
      ]
    },
    {
      "cell_type": "markdown",
      "source": [
        "## Run Script: Git clone repos\n",
        "\n",
        "- comma10k repo\n",
        "- project repo (SLAM)\n",
        "\n",
        "### Run requirements.txt"
      ],
      "metadata": {
        "id": "aQPkyTqpy5GX"
      }
    },
    {
      "cell_type": "code",
      "execution_count": 2,
      "metadata": {
        "colab": {
          "base_uri": "https://localhost:8080/"
        },
        "id": "_W_MoUMPi2J-",
        "outputId": "f010bf05-92b4-4097-b3c4-505973d4b41b"
      },
      "outputs": [
        {
          "output_type": "stream",
          "name": "stdout",
          "text": [
            "Cloning into 'SLAM'...\n",
            "remote: Enumerating objects: 123, done.\u001b[K\n",
            "remote: Counting objects: 100% (123/123), done.\u001b[K\n",
            "remote: Compressing objects: 100% (84/84), done.\u001b[K\n",
            "remote: Total 123 (delta 54), reused 92 (delta 30), pack-reused 0\u001b[K\n",
            "Receiving objects: 100% (123/123), 23.71 KiB | 1.13 MiB/s, done.\n",
            "Resolving deltas: 100% (54/54), done.\n",
            "Cloning into 'comma10k'...\n",
            "remote: Enumerating objects: 70093, done.\u001b[K\n",
            "remote: Counting objects: 100% (538/538), done.\u001b[K\n",
            "remote: Compressing objects: 100% (482/482), done.\u001b[K\n",
            "remote: Total 70093 (delta 149), reused 432 (delta 55), pack-reused 69555\u001b[K\n",
            "Receiving objects: 100% (70093/70093), 12.32 GiB | 36.83 MiB/s, done.\n",
            "Resolving deltas: 100% (9528/9528), done.\n",
            "Updating files: 100% (24839/24839), done.\n",
            "Requirement already satisfied: numpy in /usr/local/lib/python3.10/dist-packages (from -r SLAM/requirements.txt (line 1)) (1.23.5)\n",
            "Requirement already satisfied: torch in /usr/local/lib/python3.10/dist-packages (from -r SLAM/requirements.txt (line 2)) (2.1.0+cu118)\n",
            "Requirement already satisfied: torchvision in /usr/local/lib/python3.10/dist-packages (from -r SLAM/requirements.txt (line 3)) (0.16.0+cu118)\n",
            "Requirement already satisfied: matplotlib in /usr/local/lib/python3.10/dist-packages (from -r SLAM/requirements.txt (line 4)) (3.7.1)\n",
            "Requirement already satisfied: opencv-python-headless in /usr/local/lib/python3.10/dist-packages (from -r SLAM/requirements.txt (line 5)) (4.8.1.78)\n",
            "Requirement already satisfied: Pillow in /usr/local/lib/python3.10/dist-packages (from -r SLAM/requirements.txt (line 6)) (9.4.0)\n",
            "Requirement already satisfied: scipy in /usr/local/lib/python3.10/dist-packages (from -r SLAM/requirements.txt (line 7)) (1.11.3)\n",
            "Requirement already satisfied: tqdm in /usr/local/lib/python3.10/dist-packages (from -r SLAM/requirements.txt (line 8)) (4.66.1)\n",
            "Requirement already satisfied: pandas in /usr/local/lib/python3.10/dist-packages (from -r SLAM/requirements.txt (line 9)) (1.5.3)\n",
            "Requirement already satisfied: scikit-learn in /usr/local/lib/python3.10/dist-packages (from -r SLAM/requirements.txt (line 10)) (1.2.2)\n",
            "Requirement already satisfied: filelock in /usr/local/lib/python3.10/dist-packages (from torch->-r SLAM/requirements.txt (line 2)) (3.13.1)\n",
            "Requirement already satisfied: typing-extensions in /usr/local/lib/python3.10/dist-packages (from torch->-r SLAM/requirements.txt (line 2)) (4.5.0)\n",
            "Requirement already satisfied: sympy in /usr/local/lib/python3.10/dist-packages (from torch->-r SLAM/requirements.txt (line 2)) (1.12)\n",
            "Requirement already satisfied: networkx in /usr/local/lib/python3.10/dist-packages (from torch->-r SLAM/requirements.txt (line 2)) (3.2.1)\n",
            "Requirement already satisfied: jinja2 in /usr/local/lib/python3.10/dist-packages (from torch->-r SLAM/requirements.txt (line 2)) (3.1.2)\n",
            "Requirement already satisfied: fsspec in /usr/local/lib/python3.10/dist-packages (from torch->-r SLAM/requirements.txt (line 2)) (2023.6.0)\n",
            "Requirement already satisfied: triton==2.1.0 in /usr/local/lib/python3.10/dist-packages (from torch->-r SLAM/requirements.txt (line 2)) (2.1.0)\n",
            "Requirement already satisfied: requests in /usr/local/lib/python3.10/dist-packages (from torchvision->-r SLAM/requirements.txt (line 3)) (2.31.0)\n",
            "Requirement already satisfied: contourpy>=1.0.1 in /usr/local/lib/python3.10/dist-packages (from matplotlib->-r SLAM/requirements.txt (line 4)) (1.2.0)\n",
            "Requirement already satisfied: cycler>=0.10 in /usr/local/lib/python3.10/dist-packages (from matplotlib->-r SLAM/requirements.txt (line 4)) (0.12.1)\n",
            "Requirement already satisfied: fonttools>=4.22.0 in /usr/local/lib/python3.10/dist-packages (from matplotlib->-r SLAM/requirements.txt (line 4)) (4.44.0)\n",
            "Requirement already satisfied: kiwisolver>=1.0.1 in /usr/local/lib/python3.10/dist-packages (from matplotlib->-r SLAM/requirements.txt (line 4)) (1.4.5)\n",
            "Requirement already satisfied: packaging>=20.0 in /usr/local/lib/python3.10/dist-packages (from matplotlib->-r SLAM/requirements.txt (line 4)) (23.2)\n",
            "Requirement already satisfied: pyparsing>=2.3.1 in /usr/local/lib/python3.10/dist-packages (from matplotlib->-r SLAM/requirements.txt (line 4)) (3.1.1)\n",
            "Requirement already satisfied: python-dateutil>=2.7 in /usr/local/lib/python3.10/dist-packages (from matplotlib->-r SLAM/requirements.txt (line 4)) (2.8.2)\n",
            "Requirement already satisfied: pytz>=2020.1 in /usr/local/lib/python3.10/dist-packages (from pandas->-r SLAM/requirements.txt (line 9)) (2023.3.post1)\n",
            "Requirement already satisfied: joblib>=1.1.1 in /usr/local/lib/python3.10/dist-packages (from scikit-learn->-r SLAM/requirements.txt (line 10)) (1.3.2)\n",
            "Requirement already satisfied: threadpoolctl>=2.0.0 in /usr/local/lib/python3.10/dist-packages (from scikit-learn->-r SLAM/requirements.txt (line 10)) (3.2.0)\n",
            "Requirement already satisfied: six>=1.5 in /usr/local/lib/python3.10/dist-packages (from python-dateutil>=2.7->matplotlib->-r SLAM/requirements.txt (line 4)) (1.16.0)\n",
            "Requirement already satisfied: MarkupSafe>=2.0 in /usr/local/lib/python3.10/dist-packages (from jinja2->torch->-r SLAM/requirements.txt (line 2)) (2.1.3)\n",
            "Requirement already satisfied: charset-normalizer<4,>=2 in /usr/local/lib/python3.10/dist-packages (from requests->torchvision->-r SLAM/requirements.txt (line 3)) (3.3.2)\n",
            "Requirement already satisfied: idna<4,>=2.5 in /usr/local/lib/python3.10/dist-packages (from requests->torchvision->-r SLAM/requirements.txt (line 3)) (3.4)\n",
            "Requirement already satisfied: urllib3<3,>=1.21.1 in /usr/local/lib/python3.10/dist-packages (from requests->torchvision->-r SLAM/requirements.txt (line 3)) (2.0.7)\n",
            "Requirement already satisfied: certifi>=2017.4.17 in /usr/local/lib/python3.10/dist-packages (from requests->torchvision->-r SLAM/requirements.txt (line 3)) (2023.7.22)\n",
            "Requirement already satisfied: mpmath>=0.19 in /usr/local/lib/python3.10/dist-packages (from sympy->torch->-r SLAM/requirements.txt (line 2)) (1.3.0)\n"
          ]
        }
      ],
      "source": [
        "# Clone a specific submodule\n",
        "!git clone https://github.com/lvllvl/SLAM.git\n",
        "\n",
        "# Download Comma10k repository\n",
        "!git clone https://github.com/commaai/comma10k.git\n",
        "\n",
        "# Install any dependencies\n",
        "#!pip install -r SLAM/requirements.txt\n"
      ]
    },
    {
      "cell_type": "markdown",
      "source": [
        "## Setup folder structure\n",
        "\n",
        "- Create new folders\n",
        "- Move `comma10k` files into the right folder structure"
      ],
      "metadata": {
        "id": "X0TaUbRxzMyh"
      }
    },
    {
      "cell_type": "code",
      "source": [
        "# Create a directory for training and validation\n",
        "!mkdir -p dataset_root/train/images\n",
        "!mkdir -p dataset_root/train/masks\n",
        "!mkdir -p dataset_root/val/images\n",
        "!mkdir -p dataset_root/val/masks\n",
        "\n",
        "# Move images for training folder\n",
        "!mv comma10k/imgs/* dataset_root/train/images/\n",
        "!mv comma10k/masks/* dataset_root/train/masks/\n",
        "\n",
        "# Move images for validation folder\n",
        "!mv comma10k/imgs2/* dataset_root/val/images/\n",
        "!mv comma10k/masks2/* dataset_root/val/masks/\n",
        "\n",
        "# Show all the folders so far\n",
        "!ls\n",
        "!ls dataset_root/"
      ],
      "metadata": {
        "id": "_oksU_utjua2",
        "outputId": "e9d74844-fd7f-4626-98bb-dd430a9c8bf8",
        "colab": {
          "base_uri": "https://localhost:8080/"
        }
      },
      "execution_count": 3,
      "outputs": [
        {
          "output_type": "stream",
          "name": "stdout",
          "text": [
            "comma10k  dataset_root\tdrive  sample_data  SLAM\n",
            "train  val\n"
          ]
        }
      ]
    },
    {
      "cell_type": "code",
      "source": [
        "# Verify all same number of files are in the folders\n",
        "\n",
        "!ls -l dataset_root/train/images | grep ^- | wc -l\n",
        "!ls -l dataset_root/train/masks | grep ^- | wc -l\n",
        "\n",
        "!ls -l dataset_root/val/images | grep ^- | wc -l\n",
        "!ls -l dataset_root/val/masks | grep ^- | wc -l"
      ],
      "metadata": {
        "colab": {
          "base_uri": "https://localhost:8080/"
        },
        "id": "4QBonUrdn4yW",
        "outputId": "2bd33f9b-8d74-4467-ebb2-aaa21c634d15"
      },
      "execution_count": 4,
      "outputs": [
        {
          "output_type": "stream",
          "name": "stdout",
          "text": [
            "9888\n",
            "9888\n",
            "2000\n",
            "2000\n"
          ]
        }
      ]
    },
    {
      "cell_type": "code",
      "source": [
        "# Move all the python files to the dataset_root/ folder\n",
        "\n",
        "!mv SLAM/*.py dataset_root/"
      ],
      "metadata": {
        "id": "HFwkqFBWEiWL"
      },
      "execution_count": 5,
      "outputs": []
    },
    {
      "cell_type": "markdown",
      "source": [
        "# Model Section"
      ],
      "metadata": {
        "id": "SWlps7qFFCSk"
      }
    },
    {
      "cell_type": "markdown",
      "source": [
        "## Segmentation Model: U-net Segmentaiton"
      ],
      "metadata": {
        "id": "fchpP5_WCGkX"
      }
    },
    {
      "cell_type": "code",
      "source": [
        "!python dataset_root/train.py"
      ],
      "metadata": {
        "colab": {
          "base_uri": "https://localhost:8080/"
        },
        "id": "s7NAp5NYEt_2",
        "outputId": "02330042-9be7-4032-a1ff-e01f1f14f5e9"
      },
      "execution_count": 6,
      "outputs": [
        {
          "output_type": "stream",
          "name": "stdout",
          "text": [
            "Traceback (most recent call last):\n",
            "  File \"/content/dataset_root/train.py\", line 101, in <module>\n",
            "    main()\n",
            "  File \"/content/dataset_root/train.py\", line 82, in main\n",
            "    train_loss = train_one_epoch(model, train_loader, optimizer, criterion, device)\n",
            "  File \"/content/dataset_root/train.py\", line 29, in train_one_epoch\n",
            "    for images, masks in dataloader:\n",
            "  File \"/usr/local/lib/python3.10/dist-packages/torch/utils/data/dataloader.py\", line 630, in __next__\n",
            "    data = self._next_data()\n",
            "  File \"/usr/local/lib/python3.10/dist-packages/torch/utils/data/dataloader.py\", line 674, in _next_data\n",
            "    data = self._dataset_fetcher.fetch(index)  # may raise StopIteration\n",
            "  File \"/usr/local/lib/python3.10/dist-packages/torch/utils/data/_utils/fetch.py\", line 51, in fetch\n",
            "    data = [self.dataset[idx] for idx in possibly_batched_index]\n",
            "  File \"/usr/local/lib/python3.10/dist-packages/torch/utils/data/_utils/fetch.py\", line 51, in <listcomp>\n",
            "    data = [self.dataset[idx] for idx in possibly_batched_index]\n",
            "  File \"/content/dataset_root/dataloader.py\", line 33, in __getitem__\n",
            "    mask = Image.open(mask_path).convert(\"L\")  # Assuming mask is a grayscale image\n",
            "  File \"/usr/local/lib/python3.10/dist-packages/PIL/Image.py\", line 3227, in open\n",
            "    fp = builtins.open(filename, \"rb\")\n",
            "FileNotFoundError: [Errno 2] No such file or directory: 'dataset_root/train/masks/3521_2665ce6f7b1dce08_2018-10-05--18-18-06_6_82_mask.png'\n"
          ]
        }
      ]
    },
    {
      "cell_type": "code",
      "source": [
        "#!ls dataset_root/train/masks/3521_2665ce6f7b1dce08_2018-10-05--18-18-06_6_82_mask.png\n",
        "!ls dataset_root/train/masks/3521*"
      ],
      "metadata": {
        "id": "zMnMCZbtDrcY",
        "outputId": "12e75444-f8a1-4fcf-9be1-12929c4981c1",
        "colab": {
          "base_uri": "https://localhost:8080/"
        }
      },
      "execution_count": 12,
      "outputs": [
        {
          "output_type": "stream",
          "name": "stdout",
          "text": [
            "dataset_root/train/masks/3521_2665ce6f7b1dce08_2018-10-05--18-18-06_6_82.png\n"
          ]
        }
      ]
    },
    {
      "cell_type": "code",
      "source": [],
      "metadata": {
        "id": "xZpFklEGDgBm"
      },
      "execution_count": null,
      "outputs": []
    }
  ]
}